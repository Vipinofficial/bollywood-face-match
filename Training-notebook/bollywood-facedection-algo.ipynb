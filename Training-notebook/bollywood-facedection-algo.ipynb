{
 "cells": [
  {
   "cell_type": "markdown",
   "id": "77f57a37",
   "metadata": {
    "papermill": {
     "duration": 0.004568,
     "end_time": "2025-07-28T16:30:53.233416",
     "exception": false,
     "start_time": "2025-07-28T16:30:53.228848",
     "status": "completed"
    },
    "tags": []
   },
   "source": [
    "# 1. Setup and Imports\n",
    "First, let's import all necessary libraries and set up the environment:"
   ]
  },
  {
   "cell_type": "code",
   "execution_count": 1,
   "id": "386df4e9",
   "metadata": {
    "execution": {
     "iopub.execute_input": "2025-07-28T16:30:53.241778Z",
     "iopub.status.busy": "2025-07-28T16:30:53.241517Z",
     "iopub.status.idle": "2025-07-28T16:31:06.091241Z",
     "shell.execute_reply": "2025-07-28T16:31:06.090356Z"
    },
    "papermill": {
     "duration": 12.855285,
     "end_time": "2025-07-28T16:31:06.092625",
     "exception": false,
     "start_time": "2025-07-28T16:30:53.237340",
     "status": "completed"
    },
    "tags": []
   },
   "outputs": [
    {
     "name": "stdout",
     "output_type": "stream",
     "text": [
      "✅ All libraries imported successfully!\n",
      "PyTorch version: 2.6.0+cu124\n",
      "CUDA available: True\n",
      "CUDA device: Tesla T4\n"
     ]
    }
   ],
   "source": [
    "# Cell 1: Install required packages (if needed)\n",
    "# Uncomment the following line if running in a fresh environment\n",
    "# !pip install torch torchvision opencv-python scikit-learn matplotlib tqdm pillow\n",
    "\n",
    "# Cell 2: Import libraries\n",
    "import os\n",
    "import cv2\n",
    "import torch\n",
    "import torch.nn as nn\n",
    "import torch.optim as optim\n",
    "import torch.nn.functional as F\n",
    "from torch.utils.data import Dataset, DataLoader\n",
    "import torchvision.transforms as transforms\n",
    "import torchvision.models as models\n",
    "from PIL import Image\n",
    "import numpy as np\n",
    "import json\n",
    "import pickle\n",
    "from tqdm import tqdm\n",
    "from sklearn.model_selection import train_test_split\n",
    "from sklearn.preprocessing import LabelEncoder\n",
    "import matplotlib.pyplot as plt\n",
    "import warnings\n",
    "warnings.filterwarnings('ignore')\n",
    "\n",
    "print(\"✅ All libraries imported successfully!\")\n",
    "print(f\"PyTorch version: {torch.__version__}\")\n",
    "print(f\"CUDA available: {torch.cuda.is_available()}\")\n",
    "if torch.cuda.is_available():\n",
    "    print(f\"CUDA device: {torch.cuda.get_device_name(0)}\")"
   ]
  },
  {
   "cell_type": "code",
   "execution_count": 2,
   "id": "efb9939c",
   "metadata": {
    "execution": {
     "iopub.execute_input": "2025-07-28T16:31:06.101511Z",
     "iopub.status.busy": "2025-07-28T16:31:06.100933Z",
     "iopub.status.idle": "2025-07-28T16:31:06.105592Z",
     "shell.execute_reply": "2025-07-28T16:31:06.104870Z"
    },
    "papermill": {
     "duration": 0.009993,
     "end_time": "2025-07-28T16:31:06.106630",
     "exception": false,
     "start_time": "2025-07-28T16:31:06.096637",
     "status": "completed"
    },
    "tags": []
   },
   "outputs": [
    {
     "name": "stdout",
     "output_type": "stream",
     "text": [
      "Configuration:\n",
      "Dataset Path: /kaggle/input/indian-actor-images-dataset/Bollywood Actor Images/Bollywood Actor Images\n",
      "Image Size: 224x224\n",
      "Batch Size: 32\n",
      "Training Epochs: 50\n",
      "Test Split: 0.2\n"
     ]
    }
   ],
   "source": [
    "# Cell 3: Configuration settings\n",
    "# Update these paths according to your dataset location\n",
    "DATASET_PATH = \"/kaggle/input/indian-actor-images-dataset/Bollywood Actor Images/Bollywood Actor Images\"\n",
    "IMG_SIZE = 224\n",
    "BATCH_SIZE = 32\n",
    "EPOCHS = 50\n",
    "TEST_SIZE = 0.2\n",
    "\n",
    "print(\"Configuration:\")\n",
    "print(f\"Dataset Path: {DATASET_PATH}\")\n",
    "print(f\"Image Size: {IMG_SIZE}x{IMG_SIZE}\")\n",
    "print(f\"Batch Size: {BATCH_SIZE}\")\n",
    "print(f\"Training Epochs: {EPOCHS}\")\n",
    "print(f\"Test Split: {TEST_SIZE}\")"
   ]
  },
  {
   "cell_type": "markdown",
   "id": "58050b22",
   "metadata": {
    "papermill": {
     "duration": 0.00349,
     "end_time": "2025-07-28T16:31:06.113713",
     "exception": false,
     "start_time": "2025-07-28T16:31:06.110223",
     "status": "completed"
    },
    "tags": []
   },
   "source": [
    "# 2. Dataset Class\n",
    "Define the custom dataset class for loading Bollywood celebrity images:"
   ]
  },
  {
   "cell_type": "code",
   "execution_count": 3,
   "id": "bc1c768d",
   "metadata": {
    "execution": {
     "iopub.execute_input": "2025-07-28T16:31:06.121762Z",
     "iopub.status.busy": "2025-07-28T16:31:06.121190Z",
     "iopub.status.idle": "2025-07-28T16:31:06.126421Z",
     "shell.execute_reply": "2025-07-28T16:31:06.125704Z"
    },
    "papermill": {
     "duration": 0.010351,
     "end_time": "2025-07-28T16:31:06.127563",
     "exception": false,
     "start_time": "2025-07-28T16:31:06.117212",
     "status": "completed"
    },
    "tags": []
   },
   "outputs": [
    {
     "name": "stdout",
     "output_type": "stream",
     "text": [
      "✅ BollywoodDataset class defined\n"
     ]
    }
   ],
   "source": [
    "# Cell 4: Custom Dataset Class\n",
    "class BollywoodDataset(Dataset):\n",
    "    \"\"\"Custom dataset class for Bollywood celebrity images\"\"\"\n",
    "    \n",
    "    def __init__(self, images, labels, transform=None):\n",
    "        self.images = images\n",
    "        self.labels = labels\n",
    "        self.transform = transform\n",
    "    \n",
    "    def __len__(self):\n",
    "        return len(self.images)\n",
    "    \n",
    "    def __getitem__(self, idx):\n",
    "        image = self.images[idx]\n",
    "        label = self.labels[idx]\n",
    "        \n",
    "        if self.transform:\n",
    "            image = self.transform(image)\n",
    "        \n",
    "        return image, label\n",
    "\n",
    "print(\"✅ BollywoodDataset class defined\")"
   ]
  },
  {
   "cell_type": "markdown",
   "id": "c2db1a7a",
   "metadata": {
    "papermill": {
     "duration": 0.003449,
     "end_time": "2025-07-28T16:31:06.134640",
     "exception": false,
     "start_time": "2025-07-28T16:31:06.131191",
     "status": "completed"
    },
    "tags": []
   },
   "source": [
    "# 3. Model Architecture\n",
    "Define the neural network architectures for face recognition and attribute prediction:"
   ]
  },
  {
   "cell_type": "code",
   "execution_count": 4,
   "id": "c029d7c3",
   "metadata": {
    "execution": {
     "iopub.execute_input": "2025-07-28T16:31:06.142548Z",
     "iopub.status.busy": "2025-07-28T16:31:06.142339Z",
     "iopub.status.idle": "2025-07-28T16:31:06.149208Z",
     "shell.execute_reply": "2025-07-28T16:31:06.148437Z"
    },
    "papermill": {
     "duration": 0.012262,
     "end_time": "2025-07-28T16:31:06.150387",
     "exception": false,
     "start_time": "2025-07-28T16:31:06.138125",
     "status": "completed"
    },
    "tags": []
   },
   "outputs": [
    {
     "name": "stdout",
     "output_type": "stream",
     "text": [
      "✅ BollywoodFaceNet model defined\n"
     ]
    }
   ],
   "source": [
    "# Cell 5: Main Face Recognition Model\n",
    "class BollywoodFaceNet(nn.Module):\n",
    "    \"\"\"Main face recognition network using ResNet50 backbone\"\"\"\n",
    "    \n",
    "    def __init__(self, num_classes, pretrained=True):\n",
    "        super(BollywoodFaceNet, self).__init__()\n",
    "        \n",
    "        # Use ResNet50 as backbone\n",
    "        self.backbone = models.resnet50(pretrained=pretrained)\n",
    "        \n",
    "        # Remove the final classification layer\n",
    "        self.features = nn.Sequential(*list(self.backbone.children())[:-1])\n",
    "        \n",
    "        # Add custom classifier\n",
    "        self.classifier = nn.Sequential(\n",
    "            nn.Dropout(0.5),\n",
    "            nn.Linear(2048, 1024),\n",
    "            nn.ReLU(inplace=True),\n",
    "            nn.Dropout(0.3),\n",
    "            nn.Linear(1024, 512),\n",
    "            nn.ReLU(inplace=True),\n",
    "            nn.Dropout(0.2),\n",
    "            nn.Linear(512, num_classes)\n",
    "        )\n",
    "        \n",
    "        # Feature extractor for similarity matching\n",
    "        self.feature_extractor = nn.Sequential(\n",
    "            nn.Dropout(0.3),\n",
    "            nn.Linear(2048, 512),\n",
    "            nn.ReLU(inplace=True),\n",
    "            nn.Linear(512, 256)\n",
    "        )\n",
    "    \n",
    "    def forward(self, x, return_features=False):\n",
    "        # Extract features using backbone\n",
    "        features = self.features(x)\n",
    "        features = torch.flatten(features, 1)\n",
    "        \n",
    "        if return_features:\n",
    "            # Return both classification and feature embeddings\n",
    "            embeddings = self.feature_extractor(features)\n",
    "            logits = self.classifier(features)\n",
    "            return logits, embeddings\n",
    "        else:\n",
    "            # Return only classification logits\n",
    "            logits = self.classifier(features)\n",
    "            return logits\n",
    "\n",
    "print(\"✅ BollywoodFaceNet model defined\")"
   ]
  },
  {
   "cell_type": "code",
   "execution_count": 5,
   "id": "15437538",
   "metadata": {
    "execution": {
     "iopub.execute_input": "2025-07-28T16:31:06.158706Z",
     "iopub.status.busy": "2025-07-28T16:31:06.158498Z",
     "iopub.status.idle": "2025-07-28T16:31:06.165126Z",
     "shell.execute_reply": "2025-07-28T16:31:06.164611Z"
    },
    "papermill": {
     "duration": 0.011844,
     "end_time": "2025-07-28T16:31:06.166171",
     "exception": false,
     "start_time": "2025-07-28T16:31:06.154327",
     "status": "completed"
    },
    "tags": []
   },
   "outputs": [
    {
     "name": "stdout",
     "output_type": "stream",
     "text": [
      "✅ AttributeNet model defined\n"
     ]
    }
   ],
   "source": [
    "# Cell 6: Attribute Prediction Model\n",
    "class AttributeNet(nn.Module):\n",
    "    \"\"\"Network for predicting facial attributes like skin tone, complexion, texture\"\"\"\n",
    "    \n",
    "    def __init__(self):\n",
    "        super(AttributeNet, self).__init__()\n",
    "        \n",
    "        # Use MobileNetV2 for efficiency\n",
    "        self.backbone = models.mobilenet_v2(pretrained=True)\n",
    "        self.backbone.classifier = nn.Identity()  # Remove final layer\n",
    "        \n",
    "        # Attribute prediction heads\n",
    "        self.skin_tone_head = nn.Sequential(\n",
    "            nn.Linear(1280, 256),\n",
    "            nn.ReLU(inplace=True),\n",
    "            nn.Dropout(0.3),\n",
    "            nn.Linear(256, 64),\n",
    "            nn.ReLU(inplace=True),\n",
    "            nn.Linear(64, 3)  # RGB values\n",
    "        )\n",
    "        \n",
    "        self.complexion_head = nn.Sequential(\n",
    "            nn.Linear(1280, 128),\n",
    "            nn.ReLU(inplace=True),\n",
    "            nn.Dropout(0.2),\n",
    "            nn.Linear(128, 3)  # Fair, Medium, Dark\n",
    "        )\n",
    "        \n",
    "        self.texture_head = nn.Sequential(\n",
    "            nn.Linear(1280, 128),\n",
    "            nn.ReLU(inplace=True),\n",
    "            nn.Dropout(0.2),\n",
    "            nn.Linear(128, 2)  # Smooth, Textured\n",
    "        )\n",
    "    \n",
    "    def forward(self, x):\n",
    "        features = self.backbone(x)\n",
    "        \n",
    "        skin_tone = self.skin_tone_head(features)\n",
    "        complexion = self.complexion_head(features)\n",
    "        texture = self.texture_head(features)\n",
    "        \n",
    "        return {\n",
    "            'skin_tone': skin_tone,\n",
    "            'complexion': complexion,\n",
    "            'texture': texture\n",
    "        }\n",
    "\n",
    "print(\"✅ AttributeNet model defined\")"
   ]
  },
  {
   "cell_type": "markdown",
   "id": "fc65fb58",
   "metadata": {
    "papermill": {
     "duration": 0.003468,
     "end_time": "2025-07-28T16:31:06.174037",
     "exception": false,
     "start_time": "2025-07-28T16:31:06.170569",
     "status": "completed"
    },
    "tags": []
   },
   "source": [
    "# 4. Training Class\n",
    "Create the main training class that handles data loading, preprocessing, and training:"
   ]
  },
  {
   "cell_type": "code",
   "execution_count": 6,
   "id": "41586a0d",
   "metadata": {
    "execution": {
     "iopub.execute_input": "2025-07-28T16:31:06.182168Z",
     "iopub.status.busy": "2025-07-28T16:31:06.181792Z",
     "iopub.status.idle": "2025-07-28T16:31:06.189051Z",
     "shell.execute_reply": "2025-07-28T16:31:06.188319Z"
    },
    "papermill": {
     "duration": 0.012415,
     "end_time": "2025-07-28T16:31:06.189979",
     "exception": false,
     "start_time": "2025-07-28T16:31:06.177564",
     "status": "completed"
    },
    "tags": []
   },
   "outputs": [
    {
     "name": "stdout",
     "output_type": "stream",
     "text": [
      "Using device: cuda\n",
      "GPU: Tesla T4\n",
      "CUDA Memory: 15.8 GB\n",
      "✅ BollywoodTrainer initialized\n"
     ]
    }
   ],
   "source": [
    "# Cell 7: Training Class - Initialization\n",
    "class BollywoodTrainer:\n",
    "    \"\"\"Main training class for Bollywood celebrity face recognition\"\"\"\n",
    "    \n",
    "    def __init__(self, dataset_path, img_size=224, batch_size=32):\n",
    "        self.dataset_path = dataset_path\n",
    "        self.img_size = img_size\n",
    "        self.batch_size = batch_size\n",
    "        self.device = torch.device('cuda' if torch.cuda.is_available() else 'cpu')\n",
    "        \n",
    "        print(f\"Using device: {self.device}\")\n",
    "        if torch.cuda.is_available():\n",
    "            print(f\"GPU: {torch.cuda.get_device_name(0)}\")\n",
    "            print(f\"CUDA Memory: {torch.cuda.get_device_properties(0).total_memory / 1e9:.1f} GB\")\n",
    "        \n",
    "        self.label_encoder = LabelEncoder()\n",
    "        self.celebrity_names = []\n",
    "        self.model = None\n",
    "        self.attribute_model = None\n",
    "        \n",
    "        # Data transforms\n",
    "        self.train_transform = transforms.Compose([\n",
    "            transforms.Resize((img_size, img_size)),\n",
    "            transforms.RandomHorizontalFlip(p=0.5),\n",
    "            transforms.RandomRotation(15),\n",
    "            transforms.ColorJitter(brightness=0.2, contrast=0.2, saturation=0.2, hue=0.1),\n",
    "            transforms.RandomAffine(degrees=0, translate=(0.1, 0.1)),\n",
    "            transforms.ToTensor(),\n",
    "            transforms.Normalize(mean=[0.485, 0.456, 0.406], std=[0.229, 0.224, 0.225])\n",
    "        ])\n",
    "        \n",
    "        self.val_transform = transforms.Compose([\n",
    "            transforms.Resize((img_size, img_size)),\n",
    "            transforms.ToTensor(),\n",
    "            transforms.Normalize(mean=[0.485, 0.456, 0.406], std=[0.229, 0.224, 0.225])\n",
    "        ])\n",
    "\n",
    "# Initialize trainer\n",
    "trainer = BollywoodTrainer(DATASET_PATH, IMG_SIZE, BATCH_SIZE)\n",
    "print(\"✅ BollywoodTrainer initialized\")"
   ]
  },
  {
   "cell_type": "code",
   "execution_count": 7,
   "id": "99ac4c38",
   "metadata": {
    "execution": {
     "iopub.execute_input": "2025-07-28T16:31:06.198091Z",
     "iopub.status.busy": "2025-07-28T16:31:06.197919Z",
     "iopub.status.idle": "2025-07-28T16:32:12.525201Z",
     "shell.execute_reply": "2025-07-28T16:32:12.524506Z"
    },
    "papermill": {
     "duration": 66.332605,
     "end_time": "2025-07-28T16:32:12.526281",
     "exception": false,
     "start_time": "2025-07-28T16:31:06.193676",
     "status": "completed"
    },
    "tags": []
   },
   "outputs": [
    {
     "name": "stdout",
     "output_type": "stream",
     "text": [
      "Loading dataset...\n",
      "Found 135 celebrities: ['abhay_deol', 'adil_hussain', 'ajay_devgn', 'akshay_kumar', 'akshaye_khanna']...\n",
      "Total images to load: 6750\n"
     ]
    },
    {
     "name": "stderr",
     "output_type": "stream",
     "text": [
      "Loading celebrities: 100%|██████████| 135/135 [01:05<00:00,  2.07it/s]"
     ]
    },
    {
     "name": "stdout",
     "output_type": "stream",
     "text": [
      "Dataset loaded successfully:\n",
      "  - 6750 images loaded\n",
      "  - 0 images failed to load\n",
      "  - 135 celebrities\n",
      "  - Average images per celebrity: 50.0\n"
     ]
    },
    {
     "name": "stderr",
     "output_type": "stream",
     "text": [
      "\n"
     ]
    }
   ],
   "source": [
    "# Cell 8: Data Loading Methods\n",
    "def load_dataset(trainer):\n",
    "    \"\"\"Load and preprocess the Bollywood celebrity dataset\"\"\"\n",
    "    print(\"Loading dataset...\")\n",
    "    images = []\n",
    "    labels = []\n",
    "    \n",
    "    # Check if dataset path exists\n",
    "    if not os.path.exists(trainer.dataset_path):\n",
    "        print(f\"Dataset path not found: {trainer.dataset_path}\")\n",
    "        print(\"Available paths:\")\n",
    "        try:\n",
    "            base_path = \"/kaggle/input/indian-actor-images-dataset\"\n",
    "            for root, dirs, files in os.walk(base_path):\n",
    "                level = root.replace(base_path, '').count(os.sep)\n",
    "                indent = ' ' * 2 * level\n",
    "                print(f\"{indent}{os.path.basename(root)}/\")\n",
    "                subindent = ' ' * 2 * (level + 1)\n",
    "                for file in files[:5]:  # Show first 5 files\n",
    "                    print(f\"{subindent}{file}\")\n",
    "                if len(files) > 5:\n",
    "                    print(f\"{subindent}... and {len(files)-5} more files\")\n",
    "        except:\n",
    "            pass\n",
    "        raise FileNotFoundError(f\"Dataset path not found: {trainer.dataset_path}\")\n",
    "    \n",
    "    # Get all celebrity folders\n",
    "    celebrity_folders = []\n",
    "    for item in os.listdir(trainer.dataset_path):\n",
    "        item_path = os.path.join(trainer.dataset_path, item)\n",
    "        if os.path.isdir(item_path):\n",
    "            # Check if folder contains images\n",
    "            image_files = [f for f in os.listdir(item_path) \n",
    "                         if f.lower().endswith(('.jpg', '.jpeg', '.png', '.bmp', '.tiff'))]\n",
    "            if image_files:\n",
    "                celebrity_folders.append(item)\n",
    "    \n",
    "    if not celebrity_folders:\n",
    "        raise ValueError(f\"No celebrity folders with images found in {trainer.dataset_path}\")\n",
    "    \n",
    "    trainer.celebrity_names = sorted(celebrity_folders)\n",
    "    print(f\"Found {len(trainer.celebrity_names)} celebrities: {trainer.celebrity_names[:5]}{'...' if len(trainer.celebrity_names) > 5 else ''}\")\n",
    "    \n",
    "    # Count total images first\n",
    "    total_images = 0\n",
    "    for celebrity in trainer.celebrity_names:\n",
    "        celebrity_path = os.path.join(trainer.dataset_path, celebrity)\n",
    "        celebrity_images = [f for f in os.listdir(celebrity_path) \n",
    "                          if f.lower().endswith(('.jpg', '.jpeg', '.png', '.bmp', '.tiff'))]\n",
    "        total_images += len(celebrity_images)\n",
    "    \n",
    "    print(f\"Total images to load: {total_images}\")\n",
    "    \n",
    "    # Load images with progress bar\n",
    "    loaded_count = 0\n",
    "    failed_count = 0\n",
    "    \n",
    "    for celebrity in tqdm(trainer.celebrity_names, desc=\"Loading celebrities\"):\n",
    "        celebrity_path = os.path.join(trainer.dataset_path, celebrity)\n",
    "        celebrity_images = [f for f in os.listdir(celebrity_path) \n",
    "                          if f.lower().endswith(('.jpg', '.jpeg', '.png', '.bmp', '.tiff'))]\n",
    "        \n",
    "        for img_file in celebrity_images:\n",
    "            img_path = os.path.join(celebrity_path, img_file)\n",
    "            try:\n",
    "                # Load image using PIL\n",
    "                img = Image.open(img_path).convert('RGB')\n",
    "                # Basic validation - check if image is not corrupted\n",
    "                img.verify()\n",
    "                # Reload image after verify (verify closes the file)\n",
    "                img = Image.open(img_path).convert('RGB')\n",
    "                \n",
    "                images.append(img)\n",
    "                labels.append(celebrity)\n",
    "                loaded_count += 1\n",
    "            except Exception as e:\n",
    "                failed_count += 1\n",
    "                if failed_count <= 10:  # Only print first 10 errors\n",
    "                    print(f\"Error loading {img_path}: {e}\")\n",
    "                continue\n",
    "    \n",
    "    if not images:\n",
    "        raise ValueError(\"No images could be loaded from the dataset\")\n",
    "    \n",
    "    # Encode labels\n",
    "    labels_encoded = trainer.label_encoder.fit_transform(labels)\n",
    "    \n",
    "    print(f\"Dataset loaded successfully:\")\n",
    "    print(f\"  - {loaded_count} images loaded\")\n",
    "    print(f\"  - {failed_count} images failed to load\")\n",
    "    print(f\"  - {len(trainer.celebrity_names)} celebrities\")\n",
    "    print(f\"  - Average images per celebrity: {loaded_count/len(trainer.celebrity_names):.1f}\")\n",
    "    \n",
    "    return images, labels_encoded\n",
    "\n",
    "# Load the dataset\n",
    "images, labels = load_dataset(trainer)"
   ]
  },
  {
   "cell_type": "code",
   "execution_count": 8,
   "id": "014ef1c0",
   "metadata": {
    "execution": {
     "iopub.execute_input": "2025-07-28T16:32:12.546821Z",
     "iopub.status.busy": "2025-07-28T16:32:12.546330Z",
     "iopub.status.idle": "2025-07-28T16:32:12.569433Z",
     "shell.execute_reply": "2025-07-28T16:32:12.568868Z"
    },
    "papermill": {
     "duration": 0.035038,
     "end_time": "2025-07-28T16:32:12.570504",
     "exception": false,
     "start_time": "2025-07-28T16:32:12.535466",
     "status": "completed"
    },
    "tags": []
   },
   "outputs": [
    {
     "name": "stdout",
     "output_type": "stream",
     "text": [
      "✅ Data loaders created\n",
      "Train samples: 5400\n",
      "Validation samples: 1350\n"
     ]
    }
   ],
   "source": [
    "# Cell 9: Create Data Loaders\n",
    "def create_data_loaders(trainer, images, labels, test_size=0.2):\n",
    "    \"\"\"Create train and validation data loaders\"\"\"\n",
    "    # Split data\n",
    "    X_train, X_val, y_train, y_val = train_test_split(\n",
    "        images, labels, test_size=test_size, random_state=42, stratify=labels\n",
    "    )\n",
    "    \n",
    "    # Create datasets\n",
    "    train_dataset = BollywoodDataset(X_train, y_train, trainer.train_transform)\n",
    "    val_dataset = BollywoodDataset(X_val, y_val, trainer.val_transform)\n",
    "    \n",
    "    # Create data loaders\n",
    "    train_loader = DataLoader(\n",
    "        train_dataset, batch_size=trainer.batch_size, shuffle=True, \n",
    "        num_workers=4, pin_memory=True if torch.cuda.is_available() else False\n",
    "    )\n",
    "    val_loader = DataLoader(\n",
    "        val_dataset, batch_size=trainer.batch_size, shuffle=False,\n",
    "        num_workers=4, pin_memory=True if torch.cuda.is_available() else False\n",
    "    )\n",
    "    \n",
    "    return train_loader, val_loader\n",
    "\n",
    "# Create data loaders\n",
    "train_loader, val_loader = create_data_loaders(trainer, images, labels, TEST_SIZE)\n",
    "print(f\"✅ Data loaders created\")\n",
    "print(f\"Train samples: {len(train_loader.dataset)}\")\n",
    "print(f\"Validation samples: {len(val_loader.dataset)}\")"
   ]
  },
  {
   "cell_type": "code",
   "execution_count": 9,
   "id": "289b36d6",
   "metadata": {
    "execution": {
     "iopub.execute_input": "2025-07-28T16:32:12.589720Z",
     "iopub.status.busy": "2025-07-28T16:32:12.589175Z",
     "iopub.status.idle": "2025-07-28T16:32:12.596226Z",
     "shell.execute_reply": "2025-07-28T16:32:12.595655Z"
    },
    "papermill": {
     "duration": 0.017709,
     "end_time": "2025-07-28T16:32:12.597300",
     "exception": false,
     "start_time": "2025-07-28T16:32:12.579591",
     "status": "completed"
    },
    "tags": []
   },
   "outputs": [
    {
     "name": "stdout",
     "output_type": "stream",
     "text": [
      "✅ Attribute extraction function defined\n"
     ]
    }
   ],
   "source": [
    "# Cell 10: Attribute Extraction Methods\n",
    "def extract_face_attributes_batch(images):\n",
    "    \"\"\"Extract facial attributes for batch of images\"\"\"\n",
    "    attributes = {\n",
    "        'skin_tone': [],\n",
    "        'complexion': [],\n",
    "        'texture': []\n",
    "    }\n",
    "    \n",
    "    for img_tensor in images:\n",
    "        # Convert tensor back to numpy for analysis\n",
    "        img_np = img_tensor.permute(1, 2, 0).cpu().numpy()\n",
    "        # Denormalize\n",
    "        img_np = img_np * np.array([0.229, 0.224, 0.225]) + np.array([0.485, 0.456, 0.406])\n",
    "        img_np = np.clip(img_np, 0, 1)\n",
    "        \n",
    "        # Extract attributes\n",
    "        h, w = img_np.shape[:2]\n",
    "        face_region = img_np[int(h*0.2):int(h*0.8), int(w*0.2):int(w*0.8)]\n",
    "        \n",
    "        # Skin tone (RGB averages)\n",
    "        avg_rgb = np.mean(face_region.reshape(-1, 3), axis=0)\n",
    "        attributes['skin_tone'].append(avg_rgb)\n",
    "        \n",
    "        # Complexion classification\n",
    "        brightness = np.mean(avg_rgb)\n",
    "        if brightness > 0.7:\n",
    "            complexion = 0  # Fair\n",
    "        elif brightness > 0.5:\n",
    "            complexion = 1  # Medium\n",
    "        else:\n",
    "            complexion = 2  # Dark\n",
    "        attributes['complexion'].append(complexion)\n",
    "        \n",
    "        # Texture (using standard deviation)\n",
    "        gray = cv2.cvtColor((face_region * 255).astype(np.uint8), cv2.COLOR_RGB2GRAY)\n",
    "        texture = 0 if np.std(gray) < 20 else 1  # Smooth vs Textured\n",
    "        attributes['texture'].append(texture)\n",
    "    \n",
    "    return {\n",
    "        'skin_tone': torch.tensor(attributes['skin_tone'], dtype=torch.float32),\n",
    "        'complexion': torch.tensor(attributes['complexion'], dtype=torch.long),\n",
    "        'texture': torch.tensor(attributes['texture'], dtype=torch.long)\n",
    "    }\n",
    "\n",
    "print(\"✅ Attribute extraction function defined\")"
   ]
  },
  {
   "cell_type": "markdown",
   "id": "ba21107e",
   "metadata": {
    "papermill": {
     "duration": 0.00898,
     "end_time": "2025-07-28T16:32:12.615316",
     "exception": false,
     "start_time": "2025-07-28T16:32:12.606336",
     "status": "completed"
    },
    "tags": []
   },
   "source": [
    "# 5. Model Training\n",
    "Train both the face recognition model and the attribute prediction model:"
   ]
  },
  {
   "cell_type": "code",
   "execution_count": 10,
   "id": "8a0c5fcd",
   "metadata": {
    "execution": {
     "iopub.execute_input": "2025-07-28T16:32:12.634061Z",
     "iopub.status.busy": "2025-07-28T16:32:12.633870Z",
     "iopub.status.idle": "2025-07-28T17:22:32.714344Z",
     "shell.execute_reply": "2025-07-28T17:22:32.713051Z"
    },
    "papermill": {
     "duration": 3020.09176,
     "end_time": "2025-07-28T17:22:32.715976",
     "exception": false,
     "start_time": "2025-07-28T16:32:12.624216",
     "status": "completed"
    },
    "tags": []
   },
   "outputs": [
    {
     "name": "stdout",
     "output_type": "stream",
     "text": [
      "Training face recognition model...\n"
     ]
    },
    {
     "name": "stderr",
     "output_type": "stream",
     "text": [
      "Downloading: \"https://download.pytorch.org/models/resnet50-0676ba61.pth\" to /root/.cache/torch/hub/checkpoints/resnet50-0676ba61.pth\n",
      "100%|██████████| 97.8M/97.8M [00:00<00:00, 186MB/s]\n",
      "Epoch 1/50 [Train]: 100%|██████████| 169/169 [00:52<00:00,  3.24it/s, Loss=4.9035]\n",
      "Epoch 1/50 [Val]: 100%|██████████| 43/43 [00:04<00:00,  9.17it/s]\n"
     ]
    },
    {
     "name": "stdout",
     "output_type": "stream",
     "text": [
      "Epoch [1/50] - Loss: 4.9192, Val Acc: 0.89%\n",
      "New best model saved with validation accuracy: 0.89%\n"
     ]
    },
    {
     "name": "stderr",
     "output_type": "stream",
     "text": [
      "Epoch 2/50 [Train]: 100%|██████████| 169/169 [00:53<00:00,  3.15it/s, Loss=4.9081]\n",
      "Epoch 2/50 [Val]: 100%|██████████| 43/43 [00:04<00:00,  8.62it/s]\n"
     ]
    },
    {
     "name": "stdout",
     "output_type": "stream",
     "text": [
      "Epoch [2/50] - Loss: 4.9082, Val Acc: 0.67%\n"
     ]
    },
    {
     "name": "stderr",
     "output_type": "stream",
     "text": [
      "Epoch 3/50 [Train]: 100%|██████████| 169/169 [00:56<00:00,  3.01it/s, Loss=4.8997]\n",
      "Epoch 3/50 [Val]: 100%|██████████| 43/43 [00:04<00:00,  8.97it/s]\n"
     ]
    },
    {
     "name": "stdout",
     "output_type": "stream",
     "text": [
      "Epoch [3/50] - Loss: 4.9087, Val Acc: 0.67%\n"
     ]
    },
    {
     "name": "stderr",
     "output_type": "stream",
     "text": [
      "Epoch 4/50 [Train]: 100%|██████████| 169/169 [00:55<00:00,  3.04it/s, Loss=4.9062]\n",
      "Epoch 4/50 [Val]: 100%|██████████| 43/43 [00:04<00:00,  8.83it/s]\n"
     ]
    },
    {
     "name": "stdout",
     "output_type": "stream",
     "text": [
      "Epoch [4/50] - Loss: 4.9091, Val Acc: 0.81%\n"
     ]
    },
    {
     "name": "stderr",
     "output_type": "stream",
     "text": [
      "Epoch 5/50 [Train]: 100%|██████████| 169/169 [00:55<00:00,  3.05it/s, Loss=4.9062]\n",
      "Epoch 5/50 [Val]: 100%|██████████| 43/43 [00:04<00:00,  8.89it/s]\n"
     ]
    },
    {
     "name": "stdout",
     "output_type": "stream",
     "text": [
      "Epoch [5/50] - Loss: 4.9076, Val Acc: 0.81%\n"
     ]
    },
    {
     "name": "stderr",
     "output_type": "stream",
     "text": [
      "Epoch 6/50 [Train]: 100%|██████████| 169/169 [00:55<00:00,  3.04it/s, Loss=4.9034]\n",
      "Epoch 6/50 [Val]: 100%|██████████| 43/43 [00:04<00:00,  8.84it/s]\n"
     ]
    },
    {
     "name": "stdout",
     "output_type": "stream",
     "text": [
      "Epoch [6/50] - Loss: 4.9070, Val Acc: 0.96%\n",
      "New best model saved with validation accuracy: 0.96%\n"
     ]
    },
    {
     "name": "stderr",
     "output_type": "stream",
     "text": [
      "Epoch 7/50 [Train]: 100%|██████████| 169/169 [00:55<00:00,  3.03it/s, Loss=4.9177]\n",
      "Epoch 7/50 [Val]: 100%|██████████| 43/43 [00:04<00:00,  8.80it/s]\n"
     ]
    },
    {
     "name": "stdout",
     "output_type": "stream",
     "text": [
      "Epoch [7/50] - Loss: 4.9057, Val Acc: 0.81%\n"
     ]
    },
    {
     "name": "stderr",
     "output_type": "stream",
     "text": [
      "Epoch 8/50 [Train]: 100%|██████████| 169/169 [00:55<00:00,  3.04it/s, Loss=4.9107]\n",
      "Epoch 8/50 [Val]: 100%|██████████| 43/43 [00:04<00:00,  8.80it/s]\n"
     ]
    },
    {
     "name": "stdout",
     "output_type": "stream",
     "text": [
      "Epoch [8/50] - Loss: 4.9015, Val Acc: 0.89%\n"
     ]
    },
    {
     "name": "stderr",
     "output_type": "stream",
     "text": [
      "Epoch 9/50 [Train]: 100%|██████████| 169/169 [00:55<00:00,  3.04it/s, Loss=4.8827]\n",
      "Epoch 9/50 [Val]: 100%|██████████| 43/43 [00:04<00:00,  8.85it/s]\n"
     ]
    },
    {
     "name": "stdout",
     "output_type": "stream",
     "text": [
      "Epoch [9/50] - Loss: 4.8993, Val Acc: 0.74%\n"
     ]
    },
    {
     "name": "stderr",
     "output_type": "stream",
     "text": [
      "Epoch 10/50 [Train]: 100%|██████████| 169/169 [00:55<00:00,  3.03it/s, Loss=4.9649]\n",
      "Epoch 10/50 [Val]: 100%|██████████| 43/43 [00:04<00:00,  8.85it/s]\n"
     ]
    },
    {
     "name": "stdout",
     "output_type": "stream",
     "text": [
      "Epoch [10/50] - Loss: 4.8960, Val Acc: 0.74%\n"
     ]
    },
    {
     "name": "stderr",
     "output_type": "stream",
     "text": [
      "Epoch 11/50 [Train]: 100%|██████████| 169/169 [00:55<00:00,  3.04it/s, Loss=4.9114]\n",
      "Epoch 11/50 [Val]: 100%|██████████| 43/43 [00:04<00:00,  8.82it/s]\n"
     ]
    },
    {
     "name": "stdout",
     "output_type": "stream",
     "text": [
      "Epoch [11/50] - Loss: 4.8966, Val Acc: 0.89%\n"
     ]
    },
    {
     "name": "stderr",
     "output_type": "stream",
     "text": [
      "Epoch 12/50 [Train]: 100%|██████████| 169/169 [00:55<00:00,  3.04it/s, Loss=4.8284]\n",
      "Epoch 12/50 [Val]: 100%|██████████| 43/43 [00:04<00:00,  8.82it/s]\n"
     ]
    },
    {
     "name": "stdout",
     "output_type": "stream",
     "text": [
      "Epoch [12/50] - Loss: 4.8971, Val Acc: 1.11%\n",
      "New best model saved with validation accuracy: 1.11%\n"
     ]
    },
    {
     "name": "stderr",
     "output_type": "stream",
     "text": [
      "Epoch 13/50 [Train]: 100%|██████████| 169/169 [00:55<00:00,  3.03it/s, Loss=4.9151]\n",
      "Epoch 13/50 [Val]: 100%|██████████| 43/43 [00:04<00:00,  8.65it/s]\n"
     ]
    },
    {
     "name": "stdout",
     "output_type": "stream",
     "text": [
      "Epoch [13/50] - Loss: 4.8954, Val Acc: 0.59%\n"
     ]
    },
    {
     "name": "stderr",
     "output_type": "stream",
     "text": [
      "Epoch 14/50 [Train]: 100%|██████████| 169/169 [00:55<00:00,  3.04it/s, Loss=4.9070]\n",
      "Epoch 14/50 [Val]: 100%|██████████| 43/43 [00:04<00:00,  8.81it/s]\n"
     ]
    },
    {
     "name": "stdout",
     "output_type": "stream",
     "text": [
      "Epoch [14/50] - Loss: 4.8915, Val Acc: 0.74%\n"
     ]
    },
    {
     "name": "stderr",
     "output_type": "stream",
     "text": [
      "Epoch 15/50 [Train]: 100%|██████████| 169/169 [00:55<00:00,  3.04it/s, Loss=4.8587]\n",
      "Epoch 15/50 [Val]: 100%|██████████| 43/43 [00:04<00:00,  8.84it/s]\n"
     ]
    },
    {
     "name": "stdout",
     "output_type": "stream",
     "text": [
      "Epoch [15/50] - Loss: 4.8831, Val Acc: 0.59%\n"
     ]
    },
    {
     "name": "stderr",
     "output_type": "stream",
     "text": [
      "Epoch 16/50 [Train]: 100%|██████████| 169/169 [00:55<00:00,  3.03it/s, Loss=4.9070]\n",
      "Epoch 16/50 [Val]: 100%|██████████| 43/43 [00:04<00:00,  8.81it/s]\n"
     ]
    },
    {
     "name": "stdout",
     "output_type": "stream",
     "text": [
      "Epoch [16/50] - Loss: 4.8807, Val Acc: 0.59%\n"
     ]
    },
    {
     "name": "stderr",
     "output_type": "stream",
     "text": [
      "Epoch 17/50 [Train]: 100%|██████████| 169/169 [00:55<00:00,  3.04it/s, Loss=4.8853]\n",
      "Epoch 17/50 [Val]: 100%|██████████| 43/43 [00:04<00:00,  8.87it/s]\n"
     ]
    },
    {
     "name": "stdout",
     "output_type": "stream",
     "text": [
      "Epoch [17/50] - Loss: 4.8772, Val Acc: 0.81%\n"
     ]
    },
    {
     "name": "stderr",
     "output_type": "stream",
     "text": [
      "Epoch 18/50 [Train]: 100%|██████████| 169/169 [00:55<00:00,  3.04it/s, Loss=4.8067]\n",
      "Epoch 18/50 [Val]: 100%|██████████| 43/43 [00:04<00:00,  8.85it/s]\n"
     ]
    },
    {
     "name": "stdout",
     "output_type": "stream",
     "text": [
      "Epoch [18/50] - Loss: 4.8758, Val Acc: 0.59%\n"
     ]
    },
    {
     "name": "stderr",
     "output_type": "stream",
     "text": [
      "Epoch 19/50 [Train]: 100%|██████████| 169/169 [00:55<00:00,  3.04it/s, Loss=4.9149]\n",
      "Epoch 19/50 [Val]: 100%|██████████| 43/43 [00:04<00:00,  8.89it/s]\n"
     ]
    },
    {
     "name": "stdout",
     "output_type": "stream",
     "text": [
      "Epoch [19/50] - Loss: 4.8776, Val Acc: 0.59%\n"
     ]
    },
    {
     "name": "stderr",
     "output_type": "stream",
     "text": [
      "Epoch 20/50 [Train]: 100%|██████████| 169/169 [00:55<00:00,  3.05it/s, Loss=4.8151]\n",
      "Epoch 20/50 [Val]: 100%|██████████| 43/43 [00:04<00:00,  8.86it/s]\n"
     ]
    },
    {
     "name": "stdout",
     "output_type": "stream",
     "text": [
      "Epoch [20/50] - Loss: 4.8727, Val Acc: 0.89%\n"
     ]
    },
    {
     "name": "stderr",
     "output_type": "stream",
     "text": [
      "Epoch 21/50 [Train]: 100%|██████████| 169/169 [00:55<00:00,  3.04it/s, Loss=4.9429]\n",
      "Epoch 21/50 [Val]: 100%|██████████| 43/43 [00:04<00:00,  8.78it/s]\n"
     ]
    },
    {
     "name": "stdout",
     "output_type": "stream",
     "text": [
      "Epoch [21/50] - Loss: 4.8721, Val Acc: 0.59%\n"
     ]
    },
    {
     "name": "stderr",
     "output_type": "stream",
     "text": [
      "Epoch 22/50 [Train]: 100%|██████████| 169/169 [00:55<00:00,  3.06it/s, Loss=4.8319]\n",
      "Epoch 22/50 [Val]: 100%|██████████| 43/43 [00:04<00:00,  8.82it/s]\n"
     ]
    },
    {
     "name": "stdout",
     "output_type": "stream",
     "text": [
      "Epoch [22/50] - Loss: 4.8688, Val Acc: 0.89%\n"
     ]
    },
    {
     "name": "stderr",
     "output_type": "stream",
     "text": [
      "Epoch 23/50 [Train]: 100%|██████████| 169/169 [00:55<00:00,  3.06it/s, Loss=4.7594]\n",
      "Epoch 23/50 [Val]: 100%|██████████| 43/43 [00:04<00:00,  8.84it/s]\n"
     ]
    },
    {
     "name": "stdout",
     "output_type": "stream",
     "text": [
      "Epoch [23/50] - Loss: 4.8666, Val Acc: 1.04%\n"
     ]
    },
    {
     "name": "stderr",
     "output_type": "stream",
     "text": [
      "Epoch 24/50 [Train]: 100%|██████████| 169/169 [00:55<00:00,  3.04it/s, Loss=4.8256]\n",
      "Epoch 24/50 [Val]: 100%|██████████| 43/43 [00:04<00:00,  8.79it/s]\n"
     ]
    },
    {
     "name": "stdout",
     "output_type": "stream",
     "text": [
      "Epoch [24/50] - Loss: 4.8634, Val Acc: 0.81%\n"
     ]
    },
    {
     "name": "stderr",
     "output_type": "stream",
     "text": [
      "Epoch 25/50 [Train]: 100%|██████████| 169/169 [00:55<00:00,  3.05it/s, Loss=4.9795]\n",
      "Epoch 25/50 [Val]: 100%|██████████| 43/43 [00:04<00:00,  8.75it/s]\n"
     ]
    },
    {
     "name": "stdout",
     "output_type": "stream",
     "text": [
      "Epoch [25/50] - Loss: 4.8598, Val Acc: 1.04%\n"
     ]
    },
    {
     "name": "stderr",
     "output_type": "stream",
     "text": [
      "Epoch 26/50 [Train]: 100%|██████████| 169/169 [00:55<00:00,  3.05it/s, Loss=4.8866]\n",
      "Epoch 26/50 [Val]: 100%|██████████| 43/43 [00:04<00:00,  8.82it/s]\n"
     ]
    },
    {
     "name": "stdout",
     "output_type": "stream",
     "text": [
      "Epoch [26/50] - Loss: 4.8593, Val Acc: 1.33%\n",
      "New best model saved with validation accuracy: 1.33%\n"
     ]
    },
    {
     "name": "stderr",
     "output_type": "stream",
     "text": [
      "Epoch 27/50 [Train]: 100%|██████████| 169/169 [00:55<00:00,  3.03it/s, Loss=4.7799]\n",
      "Epoch 27/50 [Val]: 100%|██████████| 43/43 [00:04<00:00,  8.85it/s]\n"
     ]
    },
    {
     "name": "stdout",
     "output_type": "stream",
     "text": [
      "Epoch [27/50] - Loss: 4.8562, Val Acc: 1.78%\n",
      "New best model saved with validation accuracy: 1.78%\n"
     ]
    },
    {
     "name": "stderr",
     "output_type": "stream",
     "text": [
      "Epoch 28/50 [Train]: 100%|██████████| 169/169 [00:55<00:00,  3.05it/s, Loss=4.9142]\n",
      "Epoch 28/50 [Val]: 100%|██████████| 43/43 [00:04<00:00,  8.80it/s]\n"
     ]
    },
    {
     "name": "stdout",
     "output_type": "stream",
     "text": [
      "Epoch [28/50] - Loss: 4.8567, Val Acc: 0.81%\n"
     ]
    },
    {
     "name": "stderr",
     "output_type": "stream",
     "text": [
      "Epoch 29/50 [Train]: 100%|██████████| 169/169 [00:55<00:00,  3.04it/s, Loss=4.8429]\n",
      "Epoch 29/50 [Val]: 100%|██████████| 43/43 [00:04<00:00,  8.82it/s]\n"
     ]
    },
    {
     "name": "stdout",
     "output_type": "stream",
     "text": [
      "Epoch [29/50] - Loss: 4.8496, Val Acc: 1.26%\n"
     ]
    },
    {
     "name": "stderr",
     "output_type": "stream",
     "text": [
      "Epoch 30/50 [Train]: 100%|██████████| 169/169 [00:55<00:00,  3.04it/s, Loss=4.8728]\n",
      "Epoch 30/50 [Val]: 100%|██████████| 43/43 [00:04<00:00,  8.87it/s]\n"
     ]
    },
    {
     "name": "stdout",
     "output_type": "stream",
     "text": [
      "Epoch [30/50] - Loss: 4.8491, Val Acc: 1.26%\n"
     ]
    },
    {
     "name": "stderr",
     "output_type": "stream",
     "text": [
      "Epoch 31/50 [Train]: 100%|██████████| 169/169 [00:55<00:00,  3.05it/s, Loss=4.8282]\n",
      "Epoch 31/50 [Val]: 100%|██████████| 43/43 [00:04<00:00,  8.83it/s]\n"
     ]
    },
    {
     "name": "stdout",
     "output_type": "stream",
     "text": [
      "Epoch [31/50] - Loss: 4.8571, Val Acc: 0.67%\n"
     ]
    },
    {
     "name": "stderr",
     "output_type": "stream",
     "text": [
      "Epoch 32/50 [Train]: 100%|██████████| 169/169 [00:55<00:00,  3.06it/s, Loss=4.9524]\n",
      "Epoch 32/50 [Val]: 100%|██████████| 43/43 [00:04<00:00,  8.82it/s]\n"
     ]
    },
    {
     "name": "stdout",
     "output_type": "stream",
     "text": [
      "Epoch [32/50] - Loss: 4.8483, Val Acc: 1.11%\n"
     ]
    },
    {
     "name": "stderr",
     "output_type": "stream",
     "text": [
      "Epoch 33/50 [Train]: 100%|██████████| 169/169 [00:55<00:00,  3.05it/s, Loss=4.9023]\n",
      "Epoch 33/50 [Val]: 100%|██████████| 43/43 [00:04<00:00,  8.86it/s]\n"
     ]
    },
    {
     "name": "stdout",
     "output_type": "stream",
     "text": [
      "Epoch [33/50] - Loss: 4.8459, Val Acc: 1.41%\n"
     ]
    },
    {
     "name": "stderr",
     "output_type": "stream",
     "text": [
      "Epoch 34/50 [Train]: 100%|██████████| 169/169 [00:55<00:00,  3.05it/s, Loss=4.8195]\n",
      "Epoch 34/50 [Val]: 100%|██████████| 43/43 [00:04<00:00,  8.84it/s]\n"
     ]
    },
    {
     "name": "stdout",
     "output_type": "stream",
     "text": [
      "Epoch [34/50] - Loss: 4.8426, Val Acc: 1.41%\n"
     ]
    },
    {
     "name": "stderr",
     "output_type": "stream",
     "text": [
      "Epoch 35/50 [Train]: 100%|██████████| 169/169 [00:55<00:00,  3.05it/s, Loss=4.8377]\n",
      "Epoch 35/50 [Val]: 100%|██████████| 43/43 [00:04<00:00,  8.76it/s]\n"
     ]
    },
    {
     "name": "stdout",
     "output_type": "stream",
     "text": [
      "Epoch [35/50] - Loss: 4.8408, Val Acc: 1.63%\n"
     ]
    },
    {
     "name": "stderr",
     "output_type": "stream",
     "text": [
      "Epoch 36/50 [Train]: 100%|██████████| 169/169 [00:55<00:00,  3.05it/s, Loss=4.8435]\n",
      "Epoch 36/50 [Val]: 100%|██████████| 43/43 [00:04<00:00,  8.75it/s]\n"
     ]
    },
    {
     "name": "stdout",
     "output_type": "stream",
     "text": [
      "Epoch [36/50] - Loss: 4.8337, Val Acc: 1.56%\n"
     ]
    },
    {
     "name": "stderr",
     "output_type": "stream",
     "text": [
      "Epoch 37/50 [Train]: 100%|██████████| 169/169 [00:55<00:00,  3.05it/s, Loss=4.7896]\n",
      "Epoch 37/50 [Val]: 100%|██████████| 43/43 [00:04<00:00,  8.74it/s]\n"
     ]
    },
    {
     "name": "stdout",
     "output_type": "stream",
     "text": [
      "Epoch [37/50] - Loss: 4.8420, Val Acc: 1.26%\n"
     ]
    },
    {
     "name": "stderr",
     "output_type": "stream",
     "text": [
      "Epoch 38/50 [Train]: 100%|██████████| 169/169 [00:55<00:00,  3.05it/s, Loss=4.9785]\n",
      "Epoch 38/50 [Val]: 100%|██████████| 43/43 [00:04<00:00,  8.77it/s]\n"
     ]
    },
    {
     "name": "stdout",
     "output_type": "stream",
     "text": [
      "Epoch [38/50] - Loss: 4.8304, Val Acc: 1.26%\n"
     ]
    },
    {
     "name": "stderr",
     "output_type": "stream",
     "text": [
      "Epoch 39/50 [Train]: 100%|██████████| 169/169 [00:55<00:00,  3.04it/s, Loss=4.8668]\n",
      "Epoch 39/50 [Val]: 100%|██████████| 43/43 [00:04<00:00,  8.64it/s]\n"
     ]
    },
    {
     "name": "stdout",
     "output_type": "stream",
     "text": [
      "Epoch [39/50] - Loss: 4.8283, Val Acc: 1.63%\n"
     ]
    },
    {
     "name": "stderr",
     "output_type": "stream",
     "text": [
      "Epoch 40/50 [Train]: 100%|██████████| 169/169 [00:55<00:00,  3.05it/s, Loss=4.8394]\n",
      "Epoch 40/50 [Val]: 100%|██████████| 43/43 [00:04<00:00,  8.74it/s]\n"
     ]
    },
    {
     "name": "stdout",
     "output_type": "stream",
     "text": [
      "Epoch [40/50] - Loss: 4.8259, Val Acc: 1.26%\n"
     ]
    },
    {
     "name": "stderr",
     "output_type": "stream",
     "text": [
      "Epoch 41/50 [Train]: 100%|██████████| 169/169 [00:55<00:00,  3.04it/s, Loss=4.8490]\n",
      "Epoch 41/50 [Val]: 100%|██████████| 43/43 [00:04<00:00,  8.86it/s]\n"
     ]
    },
    {
     "name": "stdout",
     "output_type": "stream",
     "text": [
      "Epoch [41/50] - Loss: 4.8200, Val Acc: 1.93%\n",
      "New best model saved with validation accuracy: 1.93%\n"
     ]
    },
    {
     "name": "stderr",
     "output_type": "stream",
     "text": [
      "Epoch 42/50 [Train]: 100%|██████████| 169/169 [00:55<00:00,  3.06it/s, Loss=4.7268]\n",
      "Epoch 42/50 [Val]: 100%|██████████| 43/43 [00:04<00:00,  8.80it/s]\n"
     ]
    },
    {
     "name": "stdout",
     "output_type": "stream",
     "text": [
      "Epoch [42/50] - Loss: 4.8140, Val Acc: 1.85%\n"
     ]
    },
    {
     "name": "stderr",
     "output_type": "stream",
     "text": [
      "Epoch 43/50 [Train]: 100%|██████████| 169/169 [00:55<00:00,  3.05it/s, Loss=4.8697]\n",
      "Epoch 43/50 [Val]: 100%|██████████| 43/43 [00:04<00:00,  8.79it/s]\n"
     ]
    },
    {
     "name": "stdout",
     "output_type": "stream",
     "text": [
      "Epoch [43/50] - Loss: 4.8167, Val Acc: 1.56%\n"
     ]
    },
    {
     "name": "stderr",
     "output_type": "stream",
     "text": [
      "Epoch 44/50 [Train]: 100%|██████████| 169/169 [00:55<00:00,  3.07it/s, Loss=4.7955]\n",
      "Epoch 44/50 [Val]: 100%|██████████| 43/43 [00:04<00:00,  8.90it/s]\n"
     ]
    },
    {
     "name": "stdout",
     "output_type": "stream",
     "text": [
      "Epoch [44/50] - Loss: 4.8031, Val Acc: 1.78%\n"
     ]
    },
    {
     "name": "stderr",
     "output_type": "stream",
     "text": [
      "Epoch 45/50 [Train]: 100%|██████████| 169/169 [00:55<00:00,  3.06it/s, Loss=4.9396]\n",
      "Epoch 45/50 [Val]: 100%|██████████| 43/43 [00:04<00:00,  8.85it/s]\n"
     ]
    },
    {
     "name": "stdout",
     "output_type": "stream",
     "text": [
      "Epoch [45/50] - Loss: 4.7959, Val Acc: 1.63%\n"
     ]
    },
    {
     "name": "stderr",
     "output_type": "stream",
     "text": [
      "Epoch 46/50 [Train]: 100%|██████████| 169/169 [00:55<00:00,  3.05it/s, Loss=4.6899]\n",
      "Epoch 46/50 [Val]: 100%|██████████| 43/43 [00:04<00:00,  8.78it/s]\n"
     ]
    },
    {
     "name": "stdout",
     "output_type": "stream",
     "text": [
      "Epoch [46/50] - Loss: 4.7875, Val Acc: 2.22%\n",
      "New best model saved with validation accuracy: 2.22%\n"
     ]
    },
    {
     "name": "stderr",
     "output_type": "stream",
     "text": [
      "Epoch 47/50 [Train]: 100%|██████████| 169/169 [00:55<00:00,  3.05it/s, Loss=4.9364]\n",
      "Epoch 47/50 [Val]: 100%|██████████| 43/43 [00:04<00:00,  8.81it/s]\n"
     ]
    },
    {
     "name": "stdout",
     "output_type": "stream",
     "text": [
      "Epoch [47/50] - Loss: 4.7682, Val Acc: 1.93%\n"
     ]
    },
    {
     "name": "stderr",
     "output_type": "stream",
     "text": [
      "Epoch 48/50 [Train]: 100%|██████████| 169/169 [00:55<00:00,  3.06it/s, Loss=4.7647]\n",
      "Epoch 48/50 [Val]: 100%|██████████| 43/43 [00:04<00:00,  8.76it/s]\n"
     ]
    },
    {
     "name": "stdout",
     "output_type": "stream",
     "text": [
      "Epoch [48/50] - Loss: 4.7600, Val Acc: 1.56%\n"
     ]
    },
    {
     "name": "stderr",
     "output_type": "stream",
     "text": [
      "Epoch 49/50 [Train]: 100%|██████████| 169/169 [00:55<00:00,  3.05it/s, Loss=4.7561]\n",
      "Epoch 49/50 [Val]: 100%|██████████| 43/43 [00:04<00:00,  8.88it/s]\n"
     ]
    },
    {
     "name": "stdout",
     "output_type": "stream",
     "text": [
      "Epoch [49/50] - Loss: 4.7616, Val Acc: 1.78%\n"
     ]
    },
    {
     "name": "stderr",
     "output_type": "stream",
     "text": [
      "Epoch 50/50 [Train]: 100%|██████████| 169/169 [00:55<00:00,  3.06it/s, Loss=4.7755]\n",
      "Epoch 50/50 [Val]: 100%|██████████| 43/43 [00:04<00:00,  8.88it/s]"
     ]
    },
    {
     "name": "stdout",
     "output_type": "stream",
     "text": [
      "Epoch [50/50] - Loss: 4.7380, Val Acc: 1.85%\n"
     ]
    },
    {
     "name": "stderr",
     "output_type": "stream",
     "text": [
      "\n"
     ]
    }
   ],
   "source": [
    "# Cell 11: Face Recognition Model Training\n",
    "def train_face_recognition_model(trainer, train_loader, val_loader, num_epochs=50):\n",
    "    \"\"\"Train the main face recognition model\"\"\"\n",
    "    print(\"Training face recognition model...\")\n",
    "    \n",
    "    # Initialize model\n",
    "    num_classes = len(trainer.celebrity_names)\n",
    "    trainer.model = BollywoodFaceNet(num_classes).to(trainer.device)\n",
    "    \n",
    "    # Loss and optimizer\n",
    "    criterion = nn.CrossEntropyLoss()\n",
    "    optimizer = optim.AdamW(trainer.model.parameters(), lr=0.001, weight_decay=0.01)\n",
    "    scheduler = optim.lr_scheduler.ReduceLROnPlateau(optimizer, mode='min', patience=5, factor=0.5)\n",
    "    \n",
    "    best_val_acc = 0.0\n",
    "    train_losses = []\n",
    "    val_accuracies = []\n",
    "    \n",
    "    for epoch in range(num_epochs):\n",
    "        # Training phase\n",
    "        trainer.model.train()\n",
    "        running_loss = 0.0\n",
    "        \n",
    "        train_pbar = tqdm(train_loader, desc=f'Epoch {epoch+1}/{num_epochs} [Train]')\n",
    "        for images, labels in train_pbar:\n",
    "            images, labels = images.to(trainer.device), labels.to(trainer.device)\n",
    "            \n",
    "            optimizer.zero_grad()\n",
    "            outputs = trainer.model(images)\n",
    "            loss = criterion(outputs, labels)\n",
    "            loss.backward()\n",
    "            optimizer.step()\n",
    "            \n",
    "            running_loss += loss.item()\n",
    "            train_pbar.set_postfix({'Loss': f'{loss.item():.4f}'})\n",
    "        \n",
    "        avg_train_loss = running_loss / len(train_loader)\n",
    "        train_losses.append(avg_train_loss)\n",
    "        \n",
    "        # Validation phase\n",
    "        trainer.model.eval()\n",
    "        val_correct = 0\n",
    "        val_total = 0\n",
    "        \n",
    "        with torch.no_grad():\n",
    "            val_pbar = tqdm(val_loader, desc=f'Epoch {epoch+1}/{num_epochs} [Val]')\n",
    "            for images, labels in val_pbar:\n",
    "                images, labels = images.to(trainer.device), labels.to(trainer.device)\n",
    "                outputs = trainer.model(images)\n",
    "                _, predicted = torch.max(outputs.data, 1)\n",
    "                val_total += labels.size(0)\n",
    "                val_correct += (predicted == labels).sum().item()\n",
    "        \n",
    "        val_acc = 100 * val_correct / val_total\n",
    "        val_accuracies.append(val_acc)\n",
    "        \n",
    "        print(f'Epoch [{epoch+1}/{num_epochs}] - Loss: {avg_train_loss:.4f}, Val Acc: {val_acc:.2f}%')\n",
    "        \n",
    "        # Save best model\n",
    "        if val_acc > best_val_acc:\n",
    "            best_val_acc = val_acc\n",
    "            torch.save({\n",
    "                'epoch': epoch,\n",
    "                'model_state_dict': trainer.model.state_dict(),\n",
    "                'optimizer_state_dict': optimizer.state_dict(),\n",
    "                'val_acc': val_acc,\n",
    "                'celebrity_names': trainer.celebrity_names,\n",
    "                'label_encoder': trainer.label_encoder\n",
    "            }, 'best_bollywood_model.pth')\n",
    "            print(f'New best model saved with validation accuracy: {val_acc:.2f}%')\n",
    "        \n",
    "        scheduler.step(avg_train_loss)\n",
    "        \n",
    "        # Early stopping\n",
    "        if optimizer.param_groups[0]['lr'] < 1e-7:\n",
    "            print(\"Learning rate too small, stopping training\")\n",
    "            break\n",
    "    \n",
    "    return train_losses, val_accuracies\n",
    "\n",
    "# Start training the face recognition model\n",
    "train_losses, val_accuracies = train_face_recognition_model(trainer, train_loader, val_loader, EPOCHS)"
   ]
  },
  {
   "cell_type": "code",
   "execution_count": 11,
   "id": "d96812d3",
   "metadata": {
    "execution": {
     "iopub.execute_input": "2025-07-28T17:22:34.272221Z",
     "iopub.status.busy": "2025-07-28T17:22:34.271924Z",
     "iopub.status.idle": "2025-07-28T17:41:19.864900Z",
     "shell.execute_reply": "2025-07-28T17:41:19.863976Z"
    },
    "papermill": {
     "duration": 1126.327613,
     "end_time": "2025-07-28T17:41:19.866430",
     "exception": false,
     "start_time": "2025-07-28T17:22:33.538817",
     "status": "completed"
    },
    "tags": []
   },
   "outputs": [
    {
     "name": "stderr",
     "output_type": "stream",
     "text": [
      "Downloading: \"https://download.pytorch.org/models/mobilenet_v2-b0353104.pth\" to /root/.cache/torch/hub/checkpoints/mobilenet_v2-b0353104.pth\n"
     ]
    },
    {
     "name": "stdout",
     "output_type": "stream",
     "text": [
      "Training attribute prediction model...\n"
     ]
    },
    {
     "name": "stderr",
     "output_type": "stream",
     "text": [
      "100%|██████████| 13.6M/13.6M [00:00<00:00, 161MB/s]\n",
      "Attribute Epoch 1/30: 100%|██████████| 169/169 [00:38<00:00,  4.44it/s, Loss=0.1698]\n"
     ]
    },
    {
     "name": "stdout",
     "output_type": "stream",
     "text": [
      "Attribute Epoch [1/30] - Loss: 0.4011\n"
     ]
    },
    {
     "name": "stderr",
     "output_type": "stream",
     "text": [
      "Attribute Epoch 2/30: 100%|██████████| 169/169 [00:37<00:00,  4.54it/s, Loss=0.1571]\n"
     ]
    },
    {
     "name": "stdout",
     "output_type": "stream",
     "text": [
      "Attribute Epoch [2/30] - Loss: 0.2998\n"
     ]
    },
    {
     "name": "stderr",
     "output_type": "stream",
     "text": [
      "Attribute Epoch 3/30: 100%|██████████| 169/169 [00:37<00:00,  4.53it/s, Loss=0.1513]\n"
     ]
    },
    {
     "name": "stdout",
     "output_type": "stream",
     "text": [
      "Attribute Epoch [3/30] - Loss: 0.2683\n"
     ]
    },
    {
     "name": "stderr",
     "output_type": "stream",
     "text": [
      "Attribute Epoch 4/30: 100%|██████████| 169/169 [00:37<00:00,  4.53it/s, Loss=0.2120]\n"
     ]
    },
    {
     "name": "stdout",
     "output_type": "stream",
     "text": [
      "Attribute Epoch [4/30] - Loss: 0.2557\n"
     ]
    },
    {
     "name": "stderr",
     "output_type": "stream",
     "text": [
      "Attribute Epoch 5/30: 100%|██████████| 169/169 [00:37<00:00,  4.52it/s, Loss=0.1950]\n"
     ]
    },
    {
     "name": "stdout",
     "output_type": "stream",
     "text": [
      "Attribute Epoch [5/30] - Loss: 0.2433\n"
     ]
    },
    {
     "name": "stderr",
     "output_type": "stream",
     "text": [
      "Attribute Epoch 6/30: 100%|██████████| 169/169 [00:37<00:00,  4.49it/s, Loss=0.2236]\n"
     ]
    },
    {
     "name": "stdout",
     "output_type": "stream",
     "text": [
      "Attribute Epoch [6/30] - Loss: 0.2223\n"
     ]
    },
    {
     "name": "stderr",
     "output_type": "stream",
     "text": [
      "Attribute Epoch 7/30: 100%|██████████| 169/169 [00:37<00:00,  4.46it/s, Loss=0.2077]\n"
     ]
    },
    {
     "name": "stdout",
     "output_type": "stream",
     "text": [
      "Attribute Epoch [7/30] - Loss: 0.2440\n"
     ]
    },
    {
     "name": "stderr",
     "output_type": "stream",
     "text": [
      "Attribute Epoch 8/30: 100%|██████████| 169/169 [00:37<00:00,  4.51it/s, Loss=0.1774]\n"
     ]
    },
    {
     "name": "stdout",
     "output_type": "stream",
     "text": [
      "Attribute Epoch [8/30] - Loss: 0.2068\n"
     ]
    },
    {
     "name": "stderr",
     "output_type": "stream",
     "text": [
      "Attribute Epoch 9/30: 100%|██████████| 169/169 [00:37<00:00,  4.54it/s, Loss=0.0568]\n"
     ]
    },
    {
     "name": "stdout",
     "output_type": "stream",
     "text": [
      "Attribute Epoch [9/30] - Loss: 0.2054\n"
     ]
    },
    {
     "name": "stderr",
     "output_type": "stream",
     "text": [
      "Attribute Epoch 10/30: 100%|██████████| 169/169 [00:37<00:00,  4.53it/s, Loss=0.1252]\n"
     ]
    },
    {
     "name": "stdout",
     "output_type": "stream",
     "text": [
      "Attribute Epoch [10/30] - Loss: 0.2206\n"
     ]
    },
    {
     "name": "stderr",
     "output_type": "stream",
     "text": [
      "Attribute Epoch 11/30: 100%|██████████| 169/169 [00:37<00:00,  4.50it/s, Loss=0.1137]\n"
     ]
    },
    {
     "name": "stdout",
     "output_type": "stream",
     "text": [
      "Attribute Epoch [11/30] - Loss: 0.2043\n"
     ]
    },
    {
     "name": "stderr",
     "output_type": "stream",
     "text": [
      "Attribute Epoch 12/30: 100%|██████████| 169/169 [00:37<00:00,  4.51it/s, Loss=0.2299]\n"
     ]
    },
    {
     "name": "stdout",
     "output_type": "stream",
     "text": [
      "Attribute Epoch [12/30] - Loss: 0.1861\n"
     ]
    },
    {
     "name": "stderr",
     "output_type": "stream",
     "text": [
      "Attribute Epoch 13/30: 100%|██████████| 169/169 [00:37<00:00,  4.45it/s, Loss=0.1162]\n"
     ]
    },
    {
     "name": "stdout",
     "output_type": "stream",
     "text": [
      "Attribute Epoch [13/30] - Loss: 0.1956\n"
     ]
    },
    {
     "name": "stderr",
     "output_type": "stream",
     "text": [
      "Attribute Epoch 14/30: 100%|██████████| 169/169 [00:37<00:00,  4.54it/s, Loss=0.2617]\n"
     ]
    },
    {
     "name": "stdout",
     "output_type": "stream",
     "text": [
      "Attribute Epoch [14/30] - Loss: 0.1904\n"
     ]
    },
    {
     "name": "stderr",
     "output_type": "stream",
     "text": [
      "Attribute Epoch 15/30: 100%|██████████| 169/169 [00:37<00:00,  4.53it/s, Loss=0.1178]\n"
     ]
    },
    {
     "name": "stdout",
     "output_type": "stream",
     "text": [
      "Attribute Epoch [15/30] - Loss: 0.1895\n"
     ]
    },
    {
     "name": "stderr",
     "output_type": "stream",
     "text": [
      "Attribute Epoch 16/30: 100%|██████████| 169/169 [00:37<00:00,  4.51it/s, Loss=0.4020]\n"
     ]
    },
    {
     "name": "stdout",
     "output_type": "stream",
     "text": [
      "Attribute Epoch [16/30] - Loss: 0.2084\n"
     ]
    },
    {
     "name": "stderr",
     "output_type": "stream",
     "text": [
      "Attribute Epoch 17/30: 100%|██████████| 169/169 [00:37<00:00,  4.48it/s, Loss=0.4698]\n"
     ]
    },
    {
     "name": "stdout",
     "output_type": "stream",
     "text": [
      "Attribute Epoch [17/30] - Loss: 0.2025\n"
     ]
    },
    {
     "name": "stderr",
     "output_type": "stream",
     "text": [
      "Attribute Epoch 18/30: 100%|██████████| 169/169 [00:37<00:00,  4.53it/s, Loss=0.1959]\n"
     ]
    },
    {
     "name": "stdout",
     "output_type": "stream",
     "text": [
      "Attribute Epoch [18/30] - Loss: 0.2201\n"
     ]
    },
    {
     "name": "stderr",
     "output_type": "stream",
     "text": [
      "Attribute Epoch 19/30: 100%|██████████| 169/169 [00:37<00:00,  4.47it/s, Loss=0.2829]\n"
     ]
    },
    {
     "name": "stdout",
     "output_type": "stream",
     "text": [
      "Attribute Epoch [19/30] - Loss: 0.2041\n"
     ]
    },
    {
     "name": "stderr",
     "output_type": "stream",
     "text": [
      "Attribute Epoch 20/30: 100%|██████████| 169/169 [00:37<00:00,  4.50it/s, Loss=0.1651]\n"
     ]
    },
    {
     "name": "stdout",
     "output_type": "stream",
     "text": [
      "Attribute Epoch [20/30] - Loss: 0.1970\n"
     ]
    },
    {
     "name": "stderr",
     "output_type": "stream",
     "text": [
      "Attribute Epoch 21/30: 100%|██████████| 169/169 [00:37<00:00,  4.52it/s, Loss=0.0938]\n"
     ]
    },
    {
     "name": "stdout",
     "output_type": "stream",
     "text": [
      "Attribute Epoch [21/30] - Loss: 0.1835\n"
     ]
    },
    {
     "name": "stderr",
     "output_type": "stream",
     "text": [
      "Attribute Epoch 22/30: 100%|██████████| 169/169 [00:37<00:00,  4.54it/s, Loss=0.5868]\n"
     ]
    },
    {
     "name": "stdout",
     "output_type": "stream",
     "text": [
      "Attribute Epoch [22/30] - Loss: 0.1799\n"
     ]
    },
    {
     "name": "stderr",
     "output_type": "stream",
     "text": [
      "Attribute Epoch 23/30: 100%|██████████| 169/169 [00:37<00:00,  4.46it/s, Loss=0.2700]\n"
     ]
    },
    {
     "name": "stdout",
     "output_type": "stream",
     "text": [
      "Attribute Epoch [23/30] - Loss: 0.1802\n"
     ]
    },
    {
     "name": "stderr",
     "output_type": "stream",
     "text": [
      "Attribute Epoch 24/30: 100%|██████████| 169/169 [00:37<00:00,  4.53it/s, Loss=0.1549]\n"
     ]
    },
    {
     "name": "stdout",
     "output_type": "stream",
     "text": [
      "Attribute Epoch [24/30] - Loss: 0.1855\n"
     ]
    },
    {
     "name": "stderr",
     "output_type": "stream",
     "text": [
      "Attribute Epoch 25/30: 100%|██████████| 169/169 [00:37<00:00,  4.46it/s, Loss=0.1912]\n"
     ]
    },
    {
     "name": "stdout",
     "output_type": "stream",
     "text": [
      "Attribute Epoch [25/30] - Loss: 0.1767\n"
     ]
    },
    {
     "name": "stderr",
     "output_type": "stream",
     "text": [
      "Attribute Epoch 26/30: 100%|██████████| 169/169 [00:37<00:00,  4.51it/s, Loss=0.2268]\n"
     ]
    },
    {
     "name": "stdout",
     "output_type": "stream",
     "text": [
      "Attribute Epoch [26/30] - Loss: 0.1749\n"
     ]
    },
    {
     "name": "stderr",
     "output_type": "stream",
     "text": [
      "Attribute Epoch 27/30: 100%|██████████| 169/169 [00:37<00:00,  4.50it/s, Loss=0.1704]\n"
     ]
    },
    {
     "name": "stdout",
     "output_type": "stream",
     "text": [
      "Attribute Epoch [27/30] - Loss: 0.1877\n"
     ]
    },
    {
     "name": "stderr",
     "output_type": "stream",
     "text": [
      "Attribute Epoch 28/30: 100%|██████████| 169/169 [00:37<00:00,  4.52it/s, Loss=0.1112]\n"
     ]
    },
    {
     "name": "stdout",
     "output_type": "stream",
     "text": [
      "Attribute Epoch [28/30] - Loss: 0.1883\n"
     ]
    },
    {
     "name": "stderr",
     "output_type": "stream",
     "text": [
      "Attribute Epoch 29/30: 100%|██████████| 169/169 [00:37<00:00,  4.49it/s, Loss=0.1533]\n"
     ]
    },
    {
     "name": "stdout",
     "output_type": "stream",
     "text": [
      "Attribute Epoch [29/30] - Loss: 0.1724\n"
     ]
    },
    {
     "name": "stderr",
     "output_type": "stream",
     "text": [
      "Attribute Epoch 30/30: 100%|██████████| 169/169 [00:37<00:00,  4.53it/s, Loss=0.0790]"
     ]
    },
    {
     "name": "stdout",
     "output_type": "stream",
     "text": [
      "Attribute Epoch [30/30] - Loss: 0.1550\n",
      "Attribute model saved!\n"
     ]
    },
    {
     "name": "stderr",
     "output_type": "stream",
     "text": [
      "\n"
     ]
    }
   ],
   "source": [
    "# Cell 12: Attribute Model Training\n",
    "def train_attribute_model(trainer, train_loader, val_loader, num_epochs=30):\n",
    "    \"\"\"Train the facial attribute prediction model\"\"\"\n",
    "    print(\"Training attribute prediction model...\")\n",
    "    \n",
    "    trainer.attribute_model = AttributeNet().to(trainer.device)\n",
    "    \n",
    "    # Multi-task loss weights\n",
    "    criterion_mse = nn.MSELoss()\n",
    "    criterion_ce = nn.CrossEntropyLoss()\n",
    "    \n",
    "    optimizer = optim.Adam(trainer.attribute_model.parameters(), lr=0.001)\n",
    "    scheduler = optim.lr_scheduler.StepLR(optimizer, step_size=10, gamma=0.5)\n",
    "    \n",
    "    for epoch in range(num_epochs):\n",
    "        trainer.attribute_model.train()\n",
    "        running_loss = 0.0\n",
    "        \n",
    "        pbar = tqdm(train_loader, desc=f'Attribute Epoch {epoch+1}/{num_epochs}')\n",
    "        for images, _ in pbar:\n",
    "            images = images.to(trainer.device)\n",
    "            \n",
    "            # Extract ground truth attributes\n",
    "            gt_attributes = extract_face_attributes_batch(images)\n",
    "            for key in gt_attributes:\n",
    "                gt_attributes[key] = gt_attributes[key].to(trainer.device)\n",
    "            \n",
    "            optimizer.zero_grad()\n",
    "            outputs = trainer.attribute_model(images)\n",
    "            \n",
    "            # Calculate multi-task loss\n",
    "            skin_loss = criterion_mse(outputs['skin_tone'], gt_attributes['skin_tone'])\n",
    "            complexion_loss = criterion_ce(outputs['complexion'], gt_attributes['complexion'])\n",
    "            texture_loss = criterion_ce(outputs['texture'], gt_attributes['texture'])\n",
    "            \n",
    "            total_loss = skin_loss + complexion_loss + texture_loss\n",
    "            total_loss.backward()\n",
    "            optimizer.step()\n",
    "            \n",
    "            running_loss += total_loss.item()\n",
    "            pbar.set_postfix({'Loss': f'{total_loss.item():.4f}'})\n",
    "        \n",
    "        scheduler.step()\n",
    "        print(f'Attribute Epoch [{epoch+1}/{num_epochs}] - Loss: {running_loss/len(train_loader):.4f}')\n",
    "    \n",
    "    # Save attribute model\n",
    "    torch.save({\n",
    "        'model_state_dict': trainer.attribute_model.state_dict(),\n",
    "        'model_type': 'attribute_net'\n",
    "    }, 'bollywood_attribute_model.pth')\n",
    "    \n",
    "    print(\"Attribute model saved!\")\n",
    "\n",
    "# Train the attribute model\n",
    "train_attribute_model(trainer, train_loader, val_loader, num_epochs=30)"
   ]
  },
  {
   "cell_type": "code",
   "execution_count": 12,
   "id": "676c949f",
   "metadata": {
    "execution": {
     "iopub.execute_input": "2025-07-28T17:41:22.228709Z",
     "iopub.status.busy": "2025-07-28T17:41:22.227967Z",
     "iopub.status.idle": "2025-07-28T17:41:45.331761Z",
     "shell.execute_reply": "2025-07-28T17:41:45.330739Z"
    },
    "papermill": {
     "duration": 24.315997,
     "end_time": "2025-07-28T17:41:45.332868",
     "exception": false,
     "start_time": "2025-07-28T17:41:21.016871",
     "status": "completed"
    },
    "tags": []
   },
   "outputs": [
    {
     "name": "stdout",
     "output_type": "stream",
     "text": [
      "Extracting celebrity embeddings...\n"
     ]
    },
    {
     "name": "stderr",
     "output_type": "stream",
     "text": [
      "Extracting embeddings: 100%|██████████| 169/169 [00:23<00:00,  7.32it/s]"
     ]
    },
    {
     "name": "stdout",
     "output_type": "stream",
     "text": [
      "Celebrity embeddings saved!\n"
     ]
    },
    {
     "name": "stderr",
     "output_type": "stream",
     "text": [
      "\n"
     ]
    }
   ],
   "source": [
    "# Cell 13: Extract Celebrity Embeddings\n",
    "def extract_celebrity_embeddings(trainer, train_loader):\n",
    "    \"\"\"Extract and save celebrity feature embeddings for matching\"\"\"\n",
    "    print(\"Extracting celebrity embeddings...\")\n",
    "    \n",
    "    trainer.model.eval()\n",
    "    celebrity_embeddings = {name: [] for name in trainer.celebrity_names}\n",
    "    \n",
    "    with torch.no_grad():\n",
    "        for images, labels in tqdm(train_loader, desc=\"Extracting embeddings\"):\n",
    "            images = images.to(trainer.device)\n",
    "            _, embeddings = trainer.model(images, return_features=True)\n",
    "            \n",
    "            for embedding, label in zip(embeddings, labels):\n",
    "                celebrity_name = trainer.label_encoder.inverse_transform([label.item()])[0]\n",
    "                celebrity_embeddings[celebrity_name].append(embedding.cpu().numpy())\n",
    "    \n",
    "    # Average embeddings for each celebrity\n",
    "    avg_embeddings = {}\n",
    "    for celebrity, embeddings in celebrity_embeddings.items():\n",
    "        if embeddings:\n",
    "            avg_embeddings[celebrity] = np.mean(embeddings, axis=0)\n",
    "    \n",
    "    # Save embeddings\n",
    "    with open('celebrity_embeddings.pkl', 'wb') as f:\n",
    "        pickle.dump(avg_embeddings, f)\n",
    "    \n",
    "    print(\"Celebrity embeddings saved!\")\n",
    "    return avg_embeddings\n",
    "\n",
    "# Extract celebrity embeddings\n",
    "celebrity_embeddings = extract_celebrity_embeddings(trainer, train_loader)"
   ]
  },
  {
   "cell_type": "code",
   "execution_count": 13,
   "id": "c75dbc31",
   "metadata": {
    "execution": {
     "iopub.execute_input": "2025-07-28T17:41:47.758568Z",
     "iopub.status.busy": "2025-07-28T17:41:47.758285Z",
     "iopub.status.idle": "2025-07-28T17:41:47.764721Z",
     "shell.execute_reply": "2025-07-28T17:41:47.764108Z"
    },
    "papermill": {
     "duration": 1.218098,
     "end_time": "2025-07-28T17:41:47.765759",
     "exception": false,
     "start_time": "2025-07-28T17:41:46.547661",
     "status": "completed"
    },
    "tags": []
   },
   "outputs": [
    {
     "name": "stdout",
     "output_type": "stream",
     "text": [
      "Metadata saved!\n"
     ]
    }
   ],
   "source": [
    "# Cell 14: Save Metadata\n",
    "def save_metadata(trainer):\n",
    "    \"\"\"Save training metadata\"\"\"\n",
    "    metadata = {\n",
    "        'celebrity_names': trainer.celebrity_names,\n",
    "        'num_classes': len(trainer.celebrity_names),\n",
    "        'img_size': trainer.img_size,\n",
    "        'device_used': str(trainer.device)\n",
    "    }\n",
    "    \n",
    "    with open('model_metadata.json', 'w') as f:\n",
    "        json.dump(metadata, f, indent=2)\n",
    "    \n",
    "    # Save label encoder separately\n",
    "    with open('label_encoder.pkl', 'wb') as f:\n",
    "        pickle.dump(trainer.label_encoder, f)\n",
    "    \n",
    "    print(\"Metadata saved!\")\n",
    "\n",
    "# Save all metadata\n",
    "save_metadata(trainer)"
   ]
  },
  {
   "cell_type": "markdown",
   "id": "273a6bfc",
   "metadata": {
    "papermill": {
     "duration": 1.153433,
     "end_time": "2025-07-28T17:41:50.208991",
     "exception": false,
     "start_time": "2025-07-28T17:41:49.055558",
     "status": "completed"
    },
    "tags": []
   },
   "source": [
    "# 6. Results and Visualization\n",
    "Visualize the training results and display summary information:"
   ]
  },
  {
   "cell_type": "code",
   "execution_count": 14,
   "id": "b9e8fdd1",
   "metadata": {
    "execution": {
     "iopub.execute_input": "2025-07-28T17:41:52.650743Z",
     "iopub.status.busy": "2025-07-28T17:41:52.650075Z",
     "iopub.status.idle": "2025-07-28T17:43:12.247440Z",
     "shell.execute_reply": "2025-07-28T17:43:12.246718Z"
    },
    "papermill": {
     "duration": 82.078029,
     "end_time": "2025-07-28T17:43:13.504142",
     "exception": false,
     "start_time": "2025-07-28T17:41:51.426113",
     "status": "completed"
    },
    "tags": []
   },
   "outputs": [
    {
     "data": {
      "image/png": "[encoded data removed]",
      "text/plain": [
       "<Figure size 1500x500 with 3 Axes>"
      ]
     },
     "metadata": {},
     "output_type": "display_data"
    },
    {
     "name": "stdout",
     "output_type": "stream",
     "text": [
      "✅ Training visualization saved as 'training_results.png'\n"
     ]
    }
   ],
   "source": [
    "# Cell 15: Plot Training Curves\n",
    "plt.figure(figsize=(15, 5))\n",
    "\n",
    "# Training Loss\n",
    "plt.subplot(1, 3, 1)\n",
    "plt.plot(train_losses, 'b-', linewidth=2)\n",
    "plt.title('Training Loss', fontsize=14, fontweight='bold')\n",
    "plt.xlabel('Epoch')\n",
    "plt.ylabel('Loss')\n",
    "plt.grid(True, alpha=0.3)\n",
    "\n",
    "# Validation Accuracy\n",
    "plt.subplot(1, 3, 2)\n",
    "plt.plot(val_accuracies, 'r-', linewidth=2)\n",
    "plt.title('Validation Accuracy', fontsize=14, fontweight='bold')\n",
    "plt.xlabel('Epoch')\n",
    "plt.ylabel('Accuracy (%)')\n",
    "plt.grid(True, alpha=0.3)\n",
    "\n",
    "# Celebrity Distribution\n",
    "plt.subplot(1, 3, 3)\n",
    "celebrity_counts = [len([l for l in labels if trainer.label_encoder.inverse_transform([l])[0] == name]) \n",
    "                   for name in trainer.celebrity_names]\n",
    "plt.bar(range(len(trainer.celebrity_names)), celebrity_counts)\n",
    "plt.title('Images per Celebrity', fontsize=14, fontweight='bold')\n",
    "plt.xlabel('Celebrity Index')\n",
    "plt.ylabel('Number of Images')\n",
    "plt.xticks(rotation=45)\n",
    "plt.grid(True, alpha=0.3)\n",
    "\n",
    "plt.tight_layout()\n",
    "plt.savefig('training_results.png', dpi=300, bbox_inches='tight')\n",
    "plt.show()\n",
    "\n",
    "print(\"✅ Training visualization saved as 'training_results.png'\")"
   ]
  },
  {
   "cell_type": "code",
   "execution_count": 15,
   "id": "759a05c0",
   "metadata": {
    "execution": {
     "iopub.execute_input": "2025-07-28T17:43:15.946644Z",
     "iopub.status.busy": "2025-07-28T17:43:15.946134Z",
     "iopub.status.idle": "2025-07-28T17:43:21.866570Z",
     "shell.execute_reply": "2025-07-28T17:43:21.865669Z"
    },
    "papermill": {
     "duration": 7.073098,
     "end_time": "2025-07-28T17:43:21.867817",
     "exception": false,
     "start_time": "2025-07-28T17:43:14.794719",
     "status": "completed"
    },
    "tags": []
   },
   "outputs": [
    {
     "name": "stdout",
     "output_type": "stream",
     "text": [
      "\n",
      "============================================================\n",
      "🎉 TRAINING COMPLETED SUCCESSFULLY!\n",
      "============================================================\n",
      "\n",
      "📊 Training Statistics:\n",
      "  • Total Celebrities: 135\n",
      "  • Total Images: 6750\n",
      "  • Training Images: 5400\n",
      "  • Validation Images: 1350\n",
      "  • Final Training Loss: 4.7380\n",
      "  • Best Validation Accuracy: 2.22%\n",
      "\n",
      "💾 Saved Files:\n",
      "  ✓ best_bollywood_model.pth - Main face recognition model\n",
      "  ✓ bollywood_attribute_model.pth - Facial attribute prediction model\n",
      "  ✓ celebrity_embeddings.pkl - Celebrity feature embeddings\n",
      "  ✓ label_encoder.pkl - Label encoder for celebrity names\n",
      "  ✓ model_metadata.json - Training metadata and configuration\n",
      "  ✓ training_results.png - Training curves and statistics\n",
      "\n",
      "🌟 Top 10 Celebrities in Dataset:\n",
      "   1. abhay_deol (50 images)\n",
      "   2. adil_hussain (50 images)\n",
      "   3. ajay_devgn (50 images)\n",
      "   4. akshay_kumar (50 images)\n",
      "   5. akshaye_khanna (50 images)\n",
      "   6. amitabh_bachchan (50 images)\n",
      "   7. amjad_khan (50 images)\n",
      "   8. amol_palekar (50 images)\n",
      "   9. amole_gupte (50 images)\n",
      "  10. amrish_puri (50 images)\n",
      "  ... and 125 more celebrities\n",
      "\n",
      "🚀 Ready for inference! You can now use these models to:\n",
      "  • Recognize Bollywood celebrities from face images\n",
      "  • Extract facial features and attributes\n",
      "  • Perform similarity matching between faces\n",
      "============================================================\n"
     ]
    }
   ],
   "source": [
    "# Cell 16: Training Summary\n",
    "print(\"\\n\" + \"=\"*60)\n",
    "print(\"🎉 TRAINING COMPLETED SUCCESSFULLY!\")\n",
    "print(\"=\"*60)\n",
    "\n",
    "print(f\"\\n📊 Training Statistics:\")\n",
    "print(f\"  • Total Celebrities: {len(trainer.celebrity_names)}\")\n",
    "print(f\"  • Total Images: {len(images)}\")\n",
    "print(f\"  • Training Images: {len(train_loader.dataset)}\")\n",
    "print(f\"  • Validation Images: {len(val_loader.dataset)}\")\n",
    "print(f\"  • Final Training Loss: {train_losses[-1]:.4f}\")\n",
    "print(f\"  • Best Validation Accuracy: {max(val_accuracies):.2f}%\")\n",
    "\n",
    "print(f\"\\n💾 Saved Files:\")\n",
    "files_saved = [\n",
    "    \"best_bollywood_model.pth - Main face recognition model\",\n",
    "    \"bollywood_attribute_model.pth - Facial attribute prediction model\", \n",
    "    \"celebrity_embeddings.pkl - Celebrity feature embeddings\",\n",
    "    \"label_encoder.pkl - Label encoder for celebrity names\",\n",
    "    \"model_metadata.json - Training metadata and configuration\",\n",
    "    \"training_results.png - Training curves and statistics\"\n",
    "]\n",
    "\n",
    "for file_info in files_saved:\n",
    "    print(f\"  ✓ {file_info}\")\n",
    "\n",
    "print(f\"\\n🌟 Top 10 Celebrities in Dataset:\")\n",
    "for i, name in enumerate(trainer.celebrity_names[:10]):\n",
    "    count = len([l for l in labels if trainer.label_encoder.inverse_transform([l])[0] == name])\n",
    "    print(f\"  {i+1:2d}. {name} ({count} images)\")\n",
    "\n",
    "if len(trainer.celebrity_names) > 10:\n",
    "    print(f\"  ... and {len(trainer.celebrity_names) - 10} more celebrities\")\n",
    "\n",
    "print(f\"\\n🚀 Ready for inference! You can now use these models to:\")\n",
    "print(\"  • Recognize Bollywood celebrities from face images\")\n",
    "print(\"  • Extract facial features and attributes\")\n",
    "print(\"  • Perform similarity matching between faces\")\n",
    "print(\"=\"*60)"
   ]
  },
  {
   "cell_type": "code",
   "execution_count": 16,
   "id": "de36537e",
   "metadata": {
    "execution": {
     "iopub.execute_input": "2025-07-28T17:43:24.426817Z",
     "iopub.status.busy": "2025-07-28T17:43:24.426057Z",
     "iopub.status.idle": "2025-07-28T17:43:40.435749Z",
     "shell.execute_reply": "2025-07-28T17:43:40.434896Z"
    },
    "papermill": {
     "duration": 17.322409,
     "end_time": "2025-07-28T17:43:40.437009",
     "exception": false,
     "start_time": "2025-07-28T17:43:23.114600",
     "status": "completed"
    },
    "tags": []
   },
   "outputs": [
    {
     "name": "stdout",
     "output_type": "stream",
     "text": [
      "All files zipped into /kaggle/working/output.zip\n"
     ]
    }
   ],
   "source": [
    "import shutil\n",
    "\n",
    "# Define the name of the zip file\n",
    "zip_filename = '/kaggle/working/output.zip'\n",
    "\n",
    "# Create the zip archive of the entire /kaggle/working directory\n",
    "shutil.make_archive(base_name=zip_filename.replace('.zip', ''), format='zip', root_dir='/kaggle/working')\n",
    "\n",
    "print(f\"All files zipped into {zip_filename}\")\n"
   ]
  }
 ],
 "metadata": {
  "kaggle": {
   "accelerator": "nvidiaTeslaT4",
   "dataSources": [
    {
     "datasetId": 1280375,
     "sourceId": 3952819,
     "sourceType": "datasetVersion"
    }
   ],
   "dockerImageVersionId": 31090,
   "isGpuEnabled": true,
   "isInternetEnabled": true,
   "language": "python",
   "sourceType": "notebook"
  },
  "kernelspec": {
   "display_name": "Python 3",
   "language": "python",
   "name": "python3"
  },
  "language_info": {
   "codemirror_mode": {
    "name": "ipython",
    "version": 3
   },
   "file_extension": ".py",
   "mimetype": "text/x-python",
   "name": "python",
   "nbconvert_exporter": "python",
   "pygments_lexer": "ipython3",
   "version": "3.11.13"
  },
  "papermill": {
   "default_parameters": {},
   "duration": 4376.556591,
   "end_time": "2025-07-28T17:43:45.173241",
   "environment_variables": {},
   "exception": null,
   "input_path": "__notebook__.ipynb",
   "output_path": "__notebook__.ipynb",
   "parameters": {},
   "start_time": "2025-07-28T16:30:48.616650",
   "version": "2.6.0"
  }
 },
 "nbformat": 4,
 "nbformat_minor": 5
}
